{
 "cells": [
  {
   "cell_type": "markdown",
   "id": "38ee905f",
   "metadata": {},
   "source": [
    "# Koululaisten ruokatottumukset - Analyysi\n",
    "\n",
    "Analysoidaan 20 000 rivin dataset koululaisten ruokatottumuksista eri maissa."
   ]
  },
  {
   "cell_type": "code",
   "execution_count": null,
   "id": "cef43c97",
   "metadata": {},
   "outputs": [],
   "source": [
    "import pandas as pd\n",
    "import matplotlib.pyplot as plt\n",
    "import seaborn as sns\n",
    "import plotly.express as px\n",
    "import plotly.graph_objects as go\n",
    "from plotly.subplots import make_subplots\n",
    "import warnings\n",
    "warnings.filterwarnings('ignore')\n",
    "\n",
    "# Asetetaan visualisointien tyyli\n",
    "plt.style.use('default')\n",
    "sns.set_palette('husl')"
   ]
  },
  {
   "cell_type": "code",
   "execution_count": null,
   "id": "a516b285",
   "metadata": {},
   "outputs": [],
   "source": [
    "# Ladataan data\n",
    "df = pd.read_csv('./assets/Data/13100194.csv', sep=';', encoding='utf-8')\n",
    "\n",
    "print(f\"Dataset koko: {df.shape}\")\n",
    "print(f\"Rivejä: {len(df)}, Sarakkeita: {len(df.columns)}\")\n",
    "print(\"\\nSarakkeet:\")\n",
    "for col in df.columns:\n",
    "    print(f\"- {col}\")"
   ]
  },
  {
   "cell_type": "code",
   "execution_count": null,
   "id": "468a257b",
   "metadata": {},
   "outputs": [],
   "source": [
    "# Tutkitaan datan rakennetta\n",
    "print(\"Ensimmäiset 5 riviä:\")\n",
    "df.head()"
   ]
  },
  {
   "cell_type": "code",
   "execution_count": null,
   "id": "09761d7d",
   "metadata": {},
   "outputs": [],
   "source": [
    "# Tutkitaan eri kategorioita\n",
    "print(\"Maat/alueet:\")\n",
    "print(df['GÉO'].unique()[:10])  # Ensimmäiset 10\n",
    "\n",
    "print(\"\\nSukupuolet:\")\n",
    "print(df['Sexe'].unique())\n",
    "\n",
    "print(\"\\nIkäryhmät:\")\n",
    "print(df['Groupe d\\'âge'].unique())\n",
    "\n",
    "print(\"\\nRuokatottumukset (aktiviteetit):\")\n",
    "print(df['Activité'].unique())"
   ]
  },
  {
   "cell_type": "code",
   "execution_count": null,
   "id": "99da7267",
   "metadata": {},
   "outputs": [],
   "source": [
    "# Puhdistetaan data\n",
    "# Poistetaan rivit joissa ei ole arvoa\n",
    "df_clean = df.dropna(subset=['VALEUR'])\n",
    "\n",
    "# Muutetaan VALEUR numeeriseksi\n",
    "df_clean['VALEUR'] = pd.to_numeric(df_clean['VALEUR'], errors='coerce')\n",
    "\n",
    "# Poistetaan rivit joissa VALEUR ei ole numero\n",
    "df_clean = df_clean.dropna(subset=['VALEUR'])\n",
    "\n",
    "print(f\"Puhdistettu data: {df_clean.shape[0]} riviä\")\n",
    "print(f\"Keskiarvo: {df_clean['VALEUR'].mean():.1f}%\")\n",
    "print(f\"Mediaani: {df_clean['VALEUR'].median():.1f}%\")"
   ]
  },
  {
   "cell_type": "code",
   "execution_count": null,
   "id": "bc3e2d81",
   "metadata": {},
   "outputs": [],
   "source": [
    "# Visualisointi 1: Sukupuolierot ruokatottumuksissa\n",
    "sukupuoli_data = df_clean.groupby(['Sexe', 'Activité'])['VALEUR'].mean().reset_index()\n",
    "\n",
    "fig = px.bar(sukupuoli_data, \n",
    "             x='Activité', \n",
    "             y='VALEUR', \n",
    "             color='Sexe',\n",
    "             title='Sukupuolierot ruokatottumuksissa (keskiarvo %)',\n",
    "             labels={'VALEUR': 'Prosentti (%)', 'Activité': 'Ruokatottumukset'})\n",
    "\n",
    "fig.update_layout(xaxis_tickangle=-45, height=600)\n",
    "fig.show()"
   ]
  },
  {
   "cell_type": "code",
   "execution_count": null,
   "id": "be55b89e",
   "metadata": {},
   "outputs": [],
   "source": [
    "# Visualisointi 2: Ikäryhmien väliset erot\n",
    "ika_data = df_clean.groupby(['Groupe d\\'âge', 'Activité'])['VALEUR'].mean().reset_index()\n",
    "\n",
    "fig = px.line(ika_data, \n",
    "              x='Groupe d\\'âge', \n",
    "              y='VALEUR', \n",
    "              color='Activité',\n",
    "              title='Ruokatottumukset ikäryhmittäin',\n",
    "              labels={'VALEUR': 'Prosentti (%)', 'Groupe d\\'âge': 'Ikäryhmä'})\n",
    "\n",
    "fig.update_layout(height=600)\n",
    "fig.show()"
   ]
  },
  {
   "cell_type": "code",
   "execution_count": null,
   "id": "3afab627",
   "metadata": {},
   "outputs": [],
   "source": [
    "# Visualisointi 3: Maiden vertailu (top 10 maata)\n",
    "maa_data = df_clean.groupby('GÉO')['VALEUR'].mean().sort_values(ascending=False).head(10)\n",
    "\n",
    "fig = px.bar(x=maa_data.index, \n",
    "             y=maa_data.values,\n",
    "             title='Top 10 maata - Parhaat ruokatottumukset (keskiarvo %)',\n",
    "             labels={'x': 'Maa', 'y': 'Keskiarvo (%)'})\n",
    "\n",
    "fig.update_layout(xaxis_tickangle=-45, height=600)\n",
    "fig.show()"
   ]
  },
  {
   "cell_type": "code",
   "execution_count": null,
   "id": "114d1a6b",
   "metadata": {},
   "outputs": [],
   "source": [
    "# Visualisointi 4: Heatmap - Maat vs Ruokatottumukset\n",
    "# Otetaan vain tärkeimmät maat ja aktiviteetit\n",
    "top_maat = df_clean.groupby('GÉO')['VALEUR'].count().nlargest(15).index\n",
    "heatmap_data = df_clean[df_clean['GÉO'].isin(top_maat)]\n",
    "\n",
    "pivot_data = heatmap_data.groupby(['GÉO', 'Activité'])['VALEUR'].mean().unstack(fill_value=0)\n",
    "\n",
    "plt.figure(figsize=(12, 8))\n",
    "sns.heatmap(pivot_data, annot=True, fmt='.1f', cmap='YlOrRd')\n",
    "plt.title('Ruokatottumukset maittain - Heatmap (%)')\n",
    "plt.xlabel('Ruokatottumukset')\n",
    "plt.ylabel('Maat')\n",
    "plt.xticks(rotation=45)\n",
    "plt.tight_layout()\n",
    "plt.show()"
   ]
  },
  {
   "cell_type": "code",
   "execution_count": null,
   "id": "d4b32d49",
   "metadata": {},
   "outputs": [],
   "source": [
    "# Visualisointi 5: Frekvenssianalyysi (kuinka usein syödään)\n",
    "freq_data = df_clean.groupby('Fréquence')['VALEUR'].mean().sort_values(ascending=False)\n",
    "\n",
    "fig = px.pie(values=freq_data.values, \n",
    "             names=freq_data.index,\n",
    "             title='Ruokailutiheys - Jakauma')\n",
    "\n",
    "fig.show()"
   ]
  },
  {
   "cell_type": "code",
   "execution_count": null,
   "id": "17d7efce",
   "metadata": {},
   "outputs": [],
   "source": [
    "# Yhteenveto ja tilastot\n",
    "print(\"DATASET YHTEENVETO:\")\n",
    "print(\"=\"*50)\n",
    "print(f\"Kokonaisrivejä: {len(df_clean)}\")\n",
    "print(f\"Maita: {df_clean['GÉO'].nunique()}\")\n",
    "print(f\"Ruokatottumuksia: {df_clean['Activité'].nunique()}\")\n",
    "print(f\"Ikäryhmiä: {df_clean['Groupe d\\'âge'].nunique()}\")\n",
    "\n",
    "print(\"\\nKESKEISET LÖYDÖKSET:\")\n",
    "print(\"=\"*50)\n",
    "\n",
    "# Sukupuolierot\n",
    "sukupuoli_keskiarvo = df_clean.groupby('Sexe')['VALEUR'].mean()\n",
    "print(f\"Sukupuolierot (keskiarvo):\")\n",
    "for sukupuoli, arvo in sukupuoli_keskiarvo.items():\n",
    "    print(f\"  {sukupuoli}: {arvo:.1f}%\")\n",
    "\n",
    "# Paras ja huonoin maa\n",
    "maa_keskiarvo = df_clean.groupby('GÉO')['VALEUR'].mean()\n",
    "print(f\"\\nParas maa: {maa_keskiarvo.idxmax()} ({maa_keskiarvo.max():.1f}%)\")\n",
    "print(f\"Huonoin maa: {maa_keskiarvo.idxmin()} ({maa_keskiarvo.min():.1f}%)\")\n",
    "\n",
    "# Yleisimmät ruokatottumukset\n",
    "print(f\"\\nYleisimmät ruokatottumukset:\")\n",
    "aktiviteetti_keskiarvo = df_clean.groupby('Activité')['VALEUR'].mean().sort_values(ascending=False)\n",
    "for akt, arvo in aktiviteetti_keskiarvo.head(3).items():\n",
    "    print(f\"  {akt}: {arvo:.1f}%\")"
   ]
  }
 ],
 "metadata": {
  "language_info": {
   "name": "python"
  }
 },
 "nbformat": 4,
 "nbformat_minor": 5
}
